{
 "cells": [
  {
   "cell_type": "markdown",
   "id": "04b21e59-ebca-4f07-9baf-dc3af10feea4",
   "metadata": {},
   "source": [
    "## MATLAB Simulated Arm Control\n",
    "While ROS has many great packages for robot visualiztion and simulation, we cant use them since we are running ROS in a jupyter notebook which does not have a desktop gui. To get around this and still give everyone a chance to iteract with a simulated robot using ROS, I developed a MATLAB program whcih launches a virtaul UR3 arm which can be controlled via ROS. It can be run in desktop MATLAB or MATLAB online. In the MATLAB program you will need to change the MQTT client name and pub/sub topics based on your group number.\n",
    "\n",
    "### How it works\n",
    "I created a ROS2 package which launches N versions of a node configured as an action server. It uses parameters to dynamically set MQTT client names, topics, and FollowJointTrajectory namespaces so each node can be linked to a single simulated arm. MQTT is used to connect to the simulation which is outside the ROS network (this is a little bit of a weird roundabout setup but not unheard of to use microcontrollers in ROS systems since they cant run the full thing). Also it means the same FollowJointTrajectory action client which is used to control the arm can be used to control the simulation just by changing the namespace of the action.\n",
    "\n",
    "To get the MATLAB arm simulator function or see the inner workings of the package you can check out the [github repo](https://github.com/e-sarvey/ROS2-MATLAB-Simulator).\n"
   ]
  },
  {
   "cell_type": "code",
   "execution_count": null,
   "id": "b1b78899-2c94-4c15-afae-3bce3d22c8b2",
   "metadata": {},
   "outputs": [],
   "source": [
    "! ros2 node list # check the nodes availible"
   ]
  },
  {
   "cell_type": "code",
   "execution_count": null,
   "id": "a29ea2ac-be7d-4f1a-b205-7fe8a1c6818f",
   "metadata": {},
   "outputs": [],
   "source": [
    "! ros2 action list # check the actions availible"
   ]
  },
  {
   "cell_type": "markdown",
   "id": "1edd15a2-30bf-4c40-8609-790bc3ad732e",
   "metadata": {},
   "source": [
    "### Sending an action goal to the simulated arm with the terminal\n",
    "To send a goal to the simulated arm, edit the CLI command below for your action server (eg. /simulated_arm_server_N/). You can also change the positions to alter the joint angles. Play around with the angles and see if you can get the arm to move to a desired position just by setting the angles. (Hint: There is a commented bit of code in the matlab function that can print the end effector end positon for a given end effector offset (since the sim doesnt have an end effector on it). Ideally this would be set up as a service in the simulated arm node but I didnt have time to figure that out)."
   ]
  },
  {
   "cell_type": "code",
   "execution_count": 1,
   "id": "3d8d0979-60cc-4194-9d1b-9dec6d040b7d",
   "metadata": {},
   "outputs": [
    {
     "name": "stdout",
     "output_type": "stream",
     "text": [
      "Waiting for an action server to become available...\n",
      "^C\n"
     ]
    }
   ],
   "source": [
    "! ros2 action send_goal /simulated_arm_server_1/follow_joint_trajectory \\\n",
    "  control_msgs/action/FollowJointTrajectory \\\n",
    "  \"{trajectory: {joint_names: ['shoulder_pan_joint', 'shoulder_lift_joint', 'elbow_joint', \\\n",
    "  'wrist_1_joint', 'wrist_2_joint', 'wrist_3_joint'], \\\n",
    "  points: [{positions: [0.5, -0.5, 0.3, 0.1, -0.1, 0.0]}]}}\""
   ]
  },
  {
   "cell_type": "markdown",
   "id": "e7b4c6d0-8dfa-4f4b-a2f5-b93d9086b86f",
   "metadata": {},
   "source": [
    "### Sending action goals with Python\n",
    "Now try writing a python function using rclpy that sends this action goal to the simulated arm server node using the action client follow_joint_trajectory"
   ]
  },
  {
   "cell_type": "code",
   "execution_count": 1,
   "id": "73b86160-aa62-4126-9861-1f11994fcce6",
   "metadata": {},
   "outputs": [
    {
     "ename": "KeyboardInterrupt",
     "evalue": "",
     "output_type": "error",
     "traceback": [
      "\u001b[0;31m---------------------------------------------------------------------------\u001b[0m",
      "\u001b[0;31mKeyboardInterrupt\u001b[0m                         Traceback (most recent call last)",
      "Cell \u001b[0;32mIn[1], line 79\u001b[0m\n\u001b[1;32m     76\u001b[0m     rclpy\u001b[38;5;241m.\u001b[39mspin(action_client)\n\u001b[1;32m     78\u001b[0m \u001b[38;5;28;01mif\u001b[39;00m \u001b[38;5;18m__name__\u001b[39m \u001b[38;5;241m==\u001b[39m \u001b[38;5;124m'\u001b[39m\u001b[38;5;124m__main__\u001b[39m\u001b[38;5;124m'\u001b[39m:\n\u001b[0;32m---> 79\u001b[0m     \u001b[43mmain\u001b[49m\u001b[43m(\u001b[49m\u001b[43m)\u001b[49m\n",
      "Cell \u001b[0;32mIn[1], line 73\u001b[0m, in \u001b[0;36mmain\u001b[0;34m(args)\u001b[0m\n\u001b[1;32m     70\u001b[0m action_client \u001b[38;5;241m=\u001b[39m TrajectoryActionClient()\n\u001b[1;32m     72\u001b[0m \u001b[38;5;66;03m# Send the goal\u001b[39;00m\n\u001b[0;32m---> 73\u001b[0m \u001b[43maction_client\u001b[49m\u001b[38;5;241;43m.\u001b[39;49m\u001b[43msend_goal\u001b[49m\u001b[43m(\u001b[49m\u001b[43m)\u001b[49m\n\u001b[1;32m     75\u001b[0m \u001b[38;5;66;03m# Spin the node so it can process events (like receiving action results)\u001b[39;00m\n\u001b[1;32m     76\u001b[0m rclpy\u001b[38;5;241m.\u001b[39mspin(action_client)\n",
      "Cell \u001b[0;32mIn[1], line 38\u001b[0m, in \u001b[0;36mTrajectoryActionClient.send_goal\u001b[0;34m(self)\u001b[0m\n\u001b[1;32m     36\u001b[0m goal_msg\u001b[38;5;241m.\u001b[39mtrajectory\u001b[38;5;241m.\u001b[39mpoints \u001b[38;5;241m=\u001b[39m [point]\n\u001b[1;32m     37\u001b[0m \u001b[38;5;66;03m# Wait until the action server is available before sending the goal\u001b[39;00m\n\u001b[0;32m---> 38\u001b[0m \u001b[38;5;28;43mself\u001b[39;49m\u001b[38;5;241;43m.\u001b[39;49m\u001b[43m_action_client\u001b[49m\u001b[38;5;241;43m.\u001b[39;49m\u001b[43mwait_for_server\u001b[49m\u001b[43m(\u001b[49m\u001b[43m)\u001b[49m\n\u001b[1;32m     40\u001b[0m \u001b[38;5;66;03m# Send the goal and register a future callback to handle the response\u001b[39;00m\n\u001b[1;32m     41\u001b[0m \u001b[38;5;28mself\u001b[39m\u001b[38;5;241m.\u001b[39m_send_goal_future \u001b[38;5;241m=\u001b[39m \u001b[38;5;28mself\u001b[39m\u001b[38;5;241m.\u001b[39m_action_client\u001b[38;5;241m.\u001b[39msend_goal_async(goal_msg)\n",
      "File \u001b[0;32m/opt/ros/humble/local/lib/python3.10/dist-packages/rclpy/action/client.py:588\u001b[0m, in \u001b[0;36mActionClient.wait_for_server\u001b[0;34m(self, timeout_sec)\u001b[0m\n\u001b[1;32m    586\u001b[0m     timeout_sec \u001b[38;5;241m=\u001b[39m \u001b[38;5;28mfloat\u001b[39m(\u001b[38;5;124m'\u001b[39m\u001b[38;5;124minf\u001b[39m\u001b[38;5;124m'\u001b[39m)\n\u001b[1;32m    587\u001b[0m \u001b[38;5;28;01mwhile\u001b[39;00m \u001b[38;5;28mself\u001b[39m\u001b[38;5;241m.\u001b[39m_node\u001b[38;5;241m.\u001b[39mcontext\u001b[38;5;241m.\u001b[39mok() \u001b[38;5;129;01mand\u001b[39;00m \u001b[38;5;129;01mnot\u001b[39;00m \u001b[38;5;28mself\u001b[39m\u001b[38;5;241m.\u001b[39mserver_is_ready() \u001b[38;5;129;01mand\u001b[39;00m timeout_sec \u001b[38;5;241m>\u001b[39m \u001b[38;5;241m0.0\u001b[39m:\n\u001b[0;32m--> 588\u001b[0m     \u001b[43mtime\u001b[49m\u001b[38;5;241;43m.\u001b[39;49m\u001b[43msleep\u001b[49m\u001b[43m(\u001b[49m\u001b[43msleep_time\u001b[49m\u001b[43m)\u001b[49m\n\u001b[1;32m    589\u001b[0m     timeout_sec \u001b[38;5;241m-\u001b[39m\u001b[38;5;241m=\u001b[39m sleep_time\n\u001b[1;32m    591\u001b[0m \u001b[38;5;28;01mreturn\u001b[39;00m \u001b[38;5;28mself\u001b[39m\u001b[38;5;241m.\u001b[39mserver_is_ready()\n",
      "\u001b[0;31mKeyboardInterrupt\u001b[0m: "
     ]
    }
   ],
   "source": [
    "import rclpy  # Import the ROS 2 Python client library\n",
    "from rclpy.action import ActionClient  # For interacting with action servers\n",
    "from rclpy.node import Node  # Base class for creating nodes\n",
    "from control_msgs.action import FollowJointTrajectory  # Action type used in the goal\n",
    "from trajectory_msgs.msg import JointTrajectoryPoint  # Message type for trajectory points\n",
    "\n",
    "class TrajectoryActionClient(Node):\n",
    "    def __init__(self):\n",
    "        # Initialize the node with a name\n",
    "        super().__init__('Node_Name')\n",
    "        \n",
    "        # Create an ActionClient for sending goals to the action server\n",
    "        self._action_client = ActionClient(\n",
    "            self, \n",
    "            FollowJointTrajectory, \n",
    "            '/simulated_arm_server_N/follow_joint_trajectory'\n",
    "        )\n",
    "\n",
    "    def send_goal(self):\n",
    "        # Create a goal message for the FollowJointTrajectory action\n",
    "        goal_msg = FollowJointTrajectory.Goal()\n",
    "    \n",
    "        # Specify the joint names for the robot's arm (these are standard for FollowJointTrajectory)\n",
    "        goal_msg.trajectory.joint_names = [\n",
    "            'shoulder_pan_joint', 'shoulder_lift_joint', 'elbow_joint',\n",
    "            'wrist_1_joint', 'wrist_2_joint', 'wrist_3_joint'\n",
    "        ]\n",
    "        \n",
    "        # Create a JointTrajectoryPoint and set positions for each joint\n",
    "        point = JointTrajectoryPoint()\n",
    "        # IMPORTANT: Follow Joint Trajectory is set up to enable an input trajectory of joint angles but the simulation has not been tested. \n",
    "        # This means you should stick with sending one set of angles at a time although you can call the function several times to achieve trajectory control.\n",
    "        # or you can try it and let me know how it works...\n",
    "        point.positions = [0.0, 0.0, 0.0, 0.0, 0.0, 0.0] # what if points were an input to the function?\n",
    "        \n",
    "        goal_msg.trajectory.points = [point]\n",
    "        # Wait until the action server is available before sending the goal\n",
    "        self._action_client.wait_for_server()\n",
    "\n",
    "        # Send the goal and register a future callback to handle the response\n",
    "        self._send_goal_future = self._action_client.send_goal_async(goal_msg)\n",
    "        self._send_goal_future.add_done_callback(self.goal_response_callback)\n",
    "\n",
    "    def goal_response_callback(self, future):\n",
    "        # Handle the response from the action server\n",
    "        goal_handle = future.result()\n",
    "        \n",
    "        # Check if the goal was accepted or rejected\n",
    "        if not goal_handle.accepted:\n",
    "            self.get_logger().info('Goal rejected :(')\n",
    "            return\n",
    "        \n",
    "        self.get_logger().info('Goal accepted :)')\n",
    "\n",
    "        # Register a callback to check when the result is available\n",
    "        self._get_result_future = goal_handle.get_result_async()\n",
    "        self._get_result_future.add_done_callback(self.get_result_callback)\n",
    "\n",
    "    def get_result_callback(self, future):\n",
    "        # Handle the result of the action\n",
    "        result = future.result().result\n",
    "        self.get_logger().info(f'Action completed with result: {result}')\n",
    "        rclpy.shutdown()  # Shutdown the node once the result is processed\n",
    "\n",
    "def main(args=None):\n",
    "    # Initialize the rclpy library\n",
    "    rclpy.init(args=args)\n",
    "\n",
    "    # Create the action client node\n",
    "    action_client = TrajectoryActionClient()\n",
    "\n",
    "    # Send the goal\n",
    "    action_client.send_goal()\n",
    "\n",
    "    # Spin the node so it can process events (like receiving action results)\n",
    "    rclpy.spin(action_client)\n",
    "\n",
    "if __name__ == '__main__':\n",
    "    main()\n"
   ]
  },
  {
   "cell_type": "markdown",
   "id": "cdecea36-bdf3-4a7d-ae86-1bf4001858a6",
   "metadata": {},
   "source": [
    "### Sending an action goal to the real arm\n",
    "The command below can be used to control the real arm! It might look familiar... thats because it uses the same Follow Joint Trajectory action with the /scaled_joint_trajectory_controller/ namespace which indicates it is communicating with the UR arm driver. This means you could test out angles or a trajectory in the simulation and test it on the real arm by changing just a few lines of code, highlighting the modularity of ROS! Note: a bunch of other input parameters are included in this command what are they? What do they do? Why might they be necessary for a real arm but not the simulated arm?"
   ]
  },
  {
   "cell_type": "code",
   "execution_count": null,
   "id": "0f8b9a70-19e1-4440-a56c-8ef8df642a79",
   "metadata": {},
   "outputs": [],
   "source": [
    "! ros2 action send_goal /scaled_joint_trajectory_controller/follow_joint_trajectory control_msgs/action/FollowJointTrajectory \"{trajectory: {joint_names: [\\\"shoulder_pan_joint\\\", \\\"shoulder_lift_joint\\\", \\\"elbow_joint\\\", \\\"wrist_1_joint\\\", \\\"wrist_2_joint\\\", \\\"wrist_3_joint\\\"], points: [{positions: [0.5, -0.5, 0.3, 0.1, -0.1, 0.0], time_from_start: {sec: 5, nanosec: 0.0}}]}, goal_tolerance: [{name: \\\"shoulder_pan_joint\\\", position: 0.05}, {name: \\\"shoulder_lift_joint\\\", position: 0.05}, {name: \\\"elbow_joint\\\", position: 0.05}, {name: \\\"wrist_1_joint\\\", position: 0.05}, {name: \\\"wrist_2_joint\\\", position: 0.05}, {name: \\\"wrist_3_joint\\\", position: 0.05}], goal_time_tolerance: {sec: 1, nanosec: 0}}\""
   ]
  },
  {
   "cell_type": "code",
   "execution_count": null,
   "id": "486c9bb2-b141-4987-8118-c0bdaf5548c7",
   "metadata": {},
   "outputs": [],
   "source": [
    "! ros2 action list"
   ]
  },
  {
   "cell_type": "code",
   "execution_count": null,
   "id": "e3d16e5c-d096-4603-8542-dddabc15cbfd",
   "metadata": {},
   "outputs": [],
   "source": [
    "! ros2 action info /scaled_joint_trajectory_controller/follow_joint_trajectory"
   ]
  },
  {
   "cell_type": "code",
   "execution_count": null,
   "id": "4f20b349-0e45-42cc-8689-c7688987d8a6",
   "metadata": {},
   "outputs": [],
   "source": []
  },
  {
   "cell_type": "code",
   "execution_count": null,
   "id": "bf98421b-147f-4862-89f0-22a9598e887c",
   "metadata": {},
   "outputs": [],
   "source": []
  },
  {
   "cell_type": "code",
   "execution_count": null,
   "id": "af31b423-5102-445d-951e-1219ccceaca8",
   "metadata": {},
   "outputs": [],
   "source": []
  }
 ],
 "metadata": {
  "kernelspec": {
   "display_name": "Python [conda env:ros_py310]",
   "language": "python",
   "name": "conda-env-ros_py310-py"
  },
  "language_info": {
   "codemirror_mode": {
    "name": "ipython",
    "version": 3
   },
   "file_extension": ".py",
   "mimetype": "text/x-python",
   "name": "python",
   "nbconvert_exporter": "python",
   "pygments_lexer": "ipython3",
   "version": "3.10.13"
  }
 },
 "nbformat": 4,
 "nbformat_minor": 5
}
